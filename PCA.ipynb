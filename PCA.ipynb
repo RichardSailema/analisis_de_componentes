{
 "cells": [
  {
   "cell_type": "code",
   "execution_count": 47,
   "id": "7345b57d",
   "metadata": {},
   "outputs": [],
   "source": [
    "%matplotlib inline\n",
    "\n",
    "import matplotlib.pyplot as plt\n",
    "import numpy as np\n",
    "import seaborn as sns"
   ]
  },
  {
   "cell_type": "code",
   "execution_count": 30,
   "id": "d98bb338",
   "metadata": {},
   "outputs": [],
   "source": [
    "#generamos un amuestra, para poder reproducir nuestro experimento\n",
    "np.random.seed(42)\n",
    "\n",
    "x = 3*np.random.rand(200)\n",
    "y = 20*x+ 2*np.random.randn(200)\n",
    "\n",
    "#reformamos la matriz en 200 filas x 1 columna\n",
    "x = x.reshape(200,1)\n",
    "y = y.reshape(200,1)"
   ]
  },
  {
   "cell_type": "code",
   "execution_count": 32,
   "id": "c5c79147",
   "metadata": {},
   "outputs": [
    {
     "name": "stdout",
     "output_type": "stream",
     "text": [
      "(200, 2)\n"
     ]
    }
   ],
   "source": [
    "#unimos los vectores\n",
    "xy = np.hstack([x,y])\n",
    "print(xy.shape)"
   ]
  },
  {
   "cell_type": "code",
   "execution_count": 33,
   "id": "594ec50b",
   "metadata": {},
   "outputs": [
    {
     "name": "stdout",
     "output_type": "stream",
     "text": [
      "[[ 1.12362036e+00  2.11123577e+01]\n",
      " [ 2.85214292e+00  5.75073658e+01]\n",
      " [ 2.19598183e+00  4.45057815e+01]\n",
      " [ 1.79597545e+00  3.44908062e+01]\n",
      " [ 4.68055921e-01  1.30926674e+01]\n",
      " [ 4.67983561e-01  1.03073371e+01]\n",
      " [ 1.74250837e-01  1.10240974e+00]\n",
      " [ 2.59852844e+00  5.32836760e+01]\n",
      " [ 1.80334504e+00  3.41175374e+01]\n",
      " [ 2.12421773e+00  4.40585239e+01]\n",
      " [ 6.17534829e-02  3.55226082e+00]\n",
      " [ 2.90972956e+00  5.65532265e+01]\n",
      " [ 2.49732792e+00  5.18733107e+01]\n",
      " [ 6.37017332e-01  1.35659085e+01]\n",
      " [ 5.45474902e-01  1.25536184e+01]\n",
      " [ 5.50213530e-01  1.47978566e+01]\n",
      " [ 9.12726729e-01  1.77637583e+01]\n",
      " [ 1.57426929e+00  2.99779136e+01]\n",
      " [ 1.29583506e+00  2.41376723e+01]\n",
      " [ 8.73687421e-01  1.58421278e+01]\n",
      " [ 1.83555868e+00  3.65569703e+01]\n",
      " [ 4.18481582e-01  9.05193559e+00]\n",
      " [ 8.76433946e-01  1.80820605e+01]\n",
      " [ 1.09908553e+00  2.36360771e+01]\n",
      " [ 1.36820995e+00  2.73902028e+01]\n",
      " [ 2.35552788e+00  5.00176258e+01]\n",
      " [ 5.99021346e-01  1.14511133e+01]\n",
      " [ 1.54270332e+00  3.62944046e+01]\n",
      " [ 1.77724371e+00  3.67962088e+01]\n",
      " [ 1.39351238e-01  1.07270965e+00]\n",
      " [ 1.82263456e+00  3.43109061e+01]\n",
      " [ 5.11572371e-01  1.11963923e+01]\n",
      " [ 1.95154779e-01  3.45617001e+00]\n",
      " [ 2.84665661e+00  5.83611332e+01]\n",
      " [ 2.89689610e+00  5.88843972e+01]\n",
      " [ 2.42519204e+00  4.83581831e+01]\n",
      " [ 9.13841308e-01  1.65832387e+01]\n",
      " [ 2.93016342e-01  2.83063239e+00]\n",
      " [ 2.05269908e+00  4.01609517e+01]\n",
      " [ 1.32045748e+00  2.81219472e+01]\n",
      " [ 3.66114705e-01  7.75048158e+00]\n",
      " [ 1.48553073e+00  2.72191370e+01]\n",
      " [ 1.03165563e-01  2.40967312e+00]\n",
      " [ 2.72796121e+00  5.53298589e+01]\n",
      " [ 7.76339945e-01  1.37590840e+01]\n",
      " [ 1.98756685e+00  4.00587873e+01]\n",
      " [ 9.35133228e-01  1.88190820e+01]\n",
      " [ 1.56020406e+00  2.89181407e+01]\n",
      " [ 1.64013084e+00  3.35181915e+01]\n",
      " [ 5.54563367e-01  1.22128364e+01]\n",
      " [ 2.90875388e+00  6.03411802e+01]\n",
      " [ 2.32539847e+00  4.86155735e+01]\n",
      " [ 2.81849682e+00  5.36145978e+01]\n",
      " [ 2.68448205e+00  5.18139909e+01]\n",
      " [ 1.79369994e+00  3.69040693e+01]\n",
      " [ 2.76562271e+00  5.63400260e+01]\n",
      " [ 2.65477506e-01  6.33964550e+00]\n",
      " [ 5.87948587e-01  1.94644347e+01]\n",
      " [ 1.35681867e-01  3.85541836e+00]\n",
      " [ 9.75990992e-01  2.17909511e+01]\n",
      " [ 1.16603187e+00  2.52286409e+01]\n",
      " [ 8.14047095e-01  1.75837244e+01]\n",
      " [ 2.48621253e+00  4.90937121e+01]\n",
      " [ 1.07025998e+00  2.29231380e+01]\n",
      " [ 8.42803529e-01  1.53104202e+01]\n",
      " [ 1.62808825e+00  3.20881278e+01]\n",
      " [ 4.22772675e-01  7.48472640e+00]\n",
      " [ 2.40659094e+00  4.82955671e+01]\n",
      " [ 2.23651931e-01  9.10235575e+00]\n",
      " [ 2.96066081e+00  5.54786858e+01]\n",
      " [ 2.31673431e+00  4.77072065e+01]\n",
      " [ 5.96147045e-01  8.69750915e+00]\n",
      " [ 1.65663514e-02 -6.12536704e-01]\n",
      " [ 2.44638429e+00  5.11055869e+01]\n",
      " [ 2.12057203e+00  4.25400007e+01]\n",
      " [ 2.18702150e+00  4.15849405e+01]\n",
      " [ 2.31381104e+00  4.48456134e+01]\n",
      " [ 2.22133955e-01  5.80187460e+00]\n",
      " [ 1.07539719e+00  2.00472104e+01]\n",
      " [ 3.47607179e-01  7.38506075e+00]\n",
      " [ 2.58931028e+00  5.18773492e+01]\n",
      " [ 1.86989438e+00  3.60946869e+01]\n",
      " [ 9.92694075e-01  2.41417697e+01]\n",
      " [ 1.90675051e-01  5.08133906e+00]\n",
      " [ 9.32946965e-01  1.46086541e+01]\n",
      " [ 9.75549966e-01  1.98839080e+01]\n",
      " [ 2.18881854e+00  4.24527978e+01]\n",
      " [ 1.91267241e+00  3.99583150e+01]\n",
      " [ 2.66163823e+00  5.16477231e+01]\n",
      " [ 1.41664478e+00  2.81034226e+01]\n",
      " [ 3.58782738e-01  8.18562931e+00]\n",
      " [ 2.13973436e+00  4.45261976e+01]\n",
      " [ 2.28235515e+00  4.32465101e+01]\n",
      " [ 1.68383159e+00  3.30076294e+01]\n",
      " [ 2.31290154e+00  4.53081402e+01]\n",
      " [ 1.48138679e+00  2.83210773e+01]\n",
      " [ 1.56819849e+00  3.48948782e+01]\n",
      " [ 1.28262306e+00  2.64624245e+01]\n",
      " [ 7.62573802e-02 -9.96620304e-01]\n",
      " [ 3.23674281e-01  8.30920951e+00]\n",
      " [ 9.42875571e-02  6.13006354e+00]\n",
      " [ 1.90923123e+00  4.02495552e+01]\n",
      " [ 9.43067943e-01  1.58226189e+01]\n",
      " [ 1.52571207e+00  2.95457733e+01]\n",
      " [ 2.72269942e+00  5.69878107e+01]\n",
      " [ 7.47876687e-01  1.35421948e+01]\n",
      " [ 1.23114877e+00  2.55106142e+01]\n",
      " [ 2.26665342e+00  4.68823364e+01]\n",
      " [ 6.86394496e-01  1.18740290e+01]\n",
      " [ 2.30939729e-01  4.49974388e+00]\n",
      " [ 8.69254359e-01  1.09025525e+01]\n",
      " [ 4.83663862e-01  7.62450195e+00]\n",
      " [ 2.78909296e+00  5.52767228e+01]\n",
      " [ 2.42436114e+00  4.59916564e+01]\n",
      " [ 1.90021127e+00  4.12690480e+01]\n",
      " [ 2.61438177e+00  4.94273527e+01]\n",
      " [ 2.41101623e+00  4.73402356e+01]\n",
      " [ 5.59710177e-01  1.14556847e+01]\n",
      " [ 2.67767700e+00  5.64360865e+01]\n",
      " [ 1.61802673e+00  2.94888102e+01]\n",
      " [ 2.42232047e+00  5.07727368e+01]\n",
      " [ 2.68827390e+00  5.37859441e+01]\n",
      " [ 9.54010425e-01  1.71171912e+01]\n",
      " [ 3.30155774e-01  7.52732242e+00]\n",
      " [ 6.83805488e-01  1.40742291e+01]\n",
      " [ 1.28132337e+00  2.44260336e+01]\n",
      " [ 2.45404430e+00  4.92204901e+01]\n",
      " [ 2.58219175e+00  5.08732078e+01]\n",
      " [ 2.08563916e-02  6.44162522e-01]\n",
      " [ 1.53224191e+00  3.19690995e+01]\n",
      " [ 1.25223301e+00  2.82166938e+01]\n",
      " [ 6.66323431e-01  1.08508376e+01]\n",
      " [ 3.59596102e-01  1.14579888e+01]\n",
      " [ 1.01284551e+00  1.63527347e+01]\n",
      " [ 2.82872911e+00  5.62710120e+01]\n",
      " [ 9.69608796e-01  2.05688103e+01]\n",
      " [ 1.55637187e+00  3.16894210e+01]\n",
      " [ 2.10905688e+00  4.09357385e+01]\n",
      " [ 1.09088881e+00  2.14015316e+01]\n",
      " [ 2.91534625e+00  5.73209231e+01]\n",
      " [ 2.88734188e+00  5.65681082e+01]\n",
      " [ 7.55346887e-01  1.68061419e+01]\n",
      " [ 1.49174552e+00  3.05489413e+01]\n",
      " [ 9.02634929e-01  1.66668794e+01]\n",
      " [ 8.54521483e-01  1.88896294e+01]\n",
      " [ 1.10660842e-01  2.82781588e+00]\n",
      " [ 1.82869300e+00  3.81995843e+01]\n",
      " [ 1.50803707e+00  3.14199991e+01]\n",
      " [ 1.54436254e-01  1.43073505e+00]\n",
      " [ 8.35939393e-01  1.55984258e+01]\n",
      " [ 2.72479766e+00  5.59905404e+01]\n",
      " [ 7.18685672e-01  1.55944540e+01]\n",
      " [ 4.34684616e-01  8.65188914e+00]\n",
      " [ 1.46835828e+00  2.96018204e+01]\n",
      " [ 2.95695136e+00  6.16943570e+01]\n",
      " [ 7.26165815e-01  1.33401735e+01]\n",
      " [ 2.01640664e+00  4.14223276e+01]\n",
      " [ 2.28485885e+00  4.52927916e+01]\n",
      " [ 7.12912632e-01  1.38228902e+01]\n",
      " [ 2.18464905e+00  4.58905346e+01]\n",
      " [ 1.10334940e+00  2.37178207e+01]\n",
      " [ 1.89691749e+00  3.95653691e+01]\n",
      " [ 1.90058913e+00  4.06227403e+01]\n",
      " [ 1.60732405e+00  3.21884887e+01]\n",
      " [ 2.70869310e-01  6.78129215e+00]\n",
      " [ 2.50590749e+00  4.94976162e+01]\n",
      " [ 9.62340195e-01  1.98951366e+01]\n",
      " [ 5.59555531e-01  1.09308245e+01]\n",
      " [ 1.22325425e-01  2.64050042e+00]\n",
      " [ 1.77267883e+00  3.66438906e+01]\n",
      " [ 2.03269309e+00  3.90174203e+01]\n",
      " [ 4.97634868e-02  5.18004429e+00]\n",
      " [ 1.53627917e+00  2.87135487e+01]\n",
      " [ 6.79487326e-01  1.11613693e+01]\n",
      " [ 1.93551837e+00  4.10265892e+01]\n",
      " [ 5.23099287e-01  1.20453111e+01]\n",
      " [ 2.07281321e+00  4.27045039e+01]\n",
      " [ 1.16020604e+00  2.44608118e+01]\n",
      " [ 2.81018997e+00  5.61793058e+01]\n",
      " [ 4.12562832e-01  6.45674791e+00]\n",
      " [ 1.02319905e+00  2.06155902e+01]\n",
      " [ 3.40420564e-01  5.45408785e+00]\n",
      " [ 2.77408085e+00  5.74318566e+01]\n",
      " [ 2.63201806e+00  5.23462464e+01]\n",
      " [ 7.73824883e-01  1.38255033e+01]\n",
      " [ 1.97995214e+00  3.89562711e+01]\n",
      " [ 2.45166660e+00  4.98591949e+01]\n",
      " [ 1.66560243e+00  3.21845996e+01]\n",
      " [ 1.58895174e+00  3.01345939e+01]\n",
      " [ 7.25556873e-01  1.49985119e+01]\n",
      " [ 2.79308303e-01  6.07609921e+00]\n",
      " [ 2.69164727e+00  5.28190591e+01]\n",
      " [ 2.70125417e+00  5.30830068e+01]\n",
      " [ 1.89930437e+00  3.84501873e+01]\n",
      " [ 1.01708937e+00  1.74456188e+01]\n",
      " [ 1.04762872e+00  1.81376469e+01]\n",
      " [ 2.17786704e+00  4.21204523e+01]\n",
      " [ 2.69133078e+00  5.33997213e+01]\n",
      " [ 2.66125927e+00  5.38470006e+01]\n",
      " [ 2.33962664e+00  4.97432452e+01]]\n"
     ]
    }
   ],
   "source": [
    "print(xy)"
   ]
  },
  {
   "cell_type": "code",
   "execution_count": 34,
   "id": "b0f880b1",
   "metadata": {},
   "outputs": [
    {
     "data": {
      "image/png": "[encoded data removed]",
      "text/plain": [
       "<Figure size 432x288 with 1 Axes>"
      ]
     },
     "metadata": {
      "needs_background": "light"
     },
     "output_type": "display_data"
    }
   ],
   "source": [
    "plt.plot(xy[:, 0], xy[:,1], '.')\n",
    "plt.show()"
   ]
  },
  {
   "cell_type": "code",
   "execution_count": 37,
   "id": "a1af1a0d",
   "metadata": {},
   "outputs": [],
   "source": [
    "#centramos nuestra varianza\n",
    "xy_centrado = xy - np.mean(xy, axis = 0)"
   ]
  },
  {
   "cell_type": "code",
   "execution_count": 38,
   "id": "30a9c25c",
   "metadata": {},
   "outputs": [
    {
     "data": {
      "image/png": "[encoded data removed]",
      "text/plain": [
       "<Figure size 432x288 with 1 Axes>"
      ]
     },
     "metadata": {
      "needs_background": "light"
     },
     "output_type": "display_data"
    }
   ],
   "source": [
    "plt.plot(xy_centrado[:, 0], xy_centrado[:,1], '.')\n",
    "plt.show()"
   ]
  },
  {
   "cell_type": "code",
   "execution_count": 86,
   "id": "152af87e",
   "metadata": {},
   "outputs": [
    {
     "name": "stdout",
     "output_type": "stream",
     "text": [
      "[[-0.9987754  -0.04947417]\n",
      " [ 0.04947417 -0.9987754 ]]\n",
      "[9.29904251e-03 3.15959595e+02]\n"
     ]
    }
   ],
   "source": [
    "#buscamos componentes principales\n",
    "matrix_cov = np.cov(xy_centrado.T)\n",
    "autovalores, autovectores = np.linalg.eig(matrix_cov)\n",
    "print(autovectores)\n",
    "print(autovalores)"
   ]
  },
  {
   "cell_type": "code",
   "execution_count": 58,
   "id": "9b6f2630",
   "metadata": {},
   "outputs": [
    {
     "name": "stdout",
     "output_type": "stream",
     "text": [
      "[[-0.9987754  -0.04947417]\n",
      " [ 0.04947417 -0.9987754 ]]\n",
      "[1.85050946e+00 6.28759594e+04]\n"
     ]
    }
   ],
   "source": [
    "autovalores, autovectores = np.linalg.eig(xy_centrado.T.dot(xy_centrado))\n",
    "print(autovectores)\n",
    "print(autovalores)"
   ]
  },
  {
   "cell_type": "code",
   "execution_count": 48,
   "id": "210f292a",
   "metadata": {},
   "outputs": [],
   "source": [
    "%run \"funciones_auxiliares/graficarVectores.ipynb\""
   ]
  },
  {
   "cell_type": "code",
   "execution_count": 87,
   "id": "17468710",
   "metadata": {},
   "outputs": [
    {
     "data": {
      "image/png": "[encoded data removed]",
      "text/plain": [
       "<Figure size 432x288 with 1 Axes>"
      ]
     },
     "metadata": {
      "needs_background": "light"
     },
     "output_type": "display_data"
    }
   ],
   "source": [
    "graficarVectores(autovectores.T, ['blue', 'red'])\n",
    "\n",
    "plt.plot(xy_centrado[:, 0], xy_centrado[:,1], '.')\n",
    "plt.show()"
   ]
  },
  {
   "cell_type": "code",
   "execution_count": 99,
   "id": "1b33b392",
   "metadata": {},
   "outputs": [],
   "source": [
    "xy_nuevo = autovectores.dot(xy_centrado.T)"
   ]
  },
  {
   "cell_type": "code",
   "execution_count": 95,
   "id": "d26faf37",
   "metadata": {},
   "outputs": [
    {
     "data": {
      "text/plain": [
       "array([-0.32839834,  1.40012422,  0.74396313,  0.34395675, -0.98396278,\n",
       "       -0.98403514, -1.27776786,  1.14650974,  0.35132634,  0.67219903,\n",
       "       -1.39026522,  1.45771086,  1.04530922, -0.81500137, -0.9065438 ,\n",
       "       -0.90180517, -0.53929197,  0.1222506 , -0.15618364, -0.57833128,\n",
       "        0.38353998, -1.03353712, -0.57558475, -0.35293317, -0.08380875,\n",
       "        0.90350918, -0.85299735,  0.09068462,  0.32522501, -1.31266746,\n",
       "        0.37061586, -0.94044633, -1.25686392,  1.39463791,  1.4448774 ,\n",
       "        0.97317334, -0.53817739, -1.15900236,  0.60068038, -0.13156122,\n",
       "       -1.085904  ,  0.03351203, -1.34885314,  1.27594251, -0.67567875,\n",
       "        0.53554815, -0.51688547,  0.10818536,  0.18811214, -0.89745533,\n",
       "        1.45673518,  0.87337977,  1.36647812,  1.23246335,  0.34168124,\n",
       "        1.31360401, -1.18654119, -0.86407011, -1.31633683, -0.47602771,\n",
       "       -0.28598683, -0.6379716 ,  1.03419383, -0.38175872, -0.60921517,\n",
       "        0.17606955, -1.02924602,  0.95457224, -1.22836677,  1.50864211,\n",
       "        0.86471561, -0.85587166, -1.43545235,  0.99436559,  0.66855333,\n",
       "        0.7350028 ,  0.86179234, -1.22988474, -0.37662151, -1.10441152,\n",
       "        1.13729158,  0.41787568, -0.45932463, -1.26134365, -0.51907173,\n",
       "       -0.47646873,  0.73679984,  0.46065371,  1.20961953, -0.03537392,\n",
       "       -1.09323596,  0.68771566,  0.83033645,  0.23181289,  0.86088284,\n",
       "        0.02936809,  0.11617979, -0.16939564, -1.37576132, -1.12834442,\n",
       "       -1.35773114,  0.45721253, -0.50895076,  0.07369337,  1.27068072,\n",
       "       -0.70414201, -0.22086993,  0.81463472, -0.7656242 , -1.22107897,\n",
       "       -0.58276434, -0.96835484,  1.33707426,  0.97234244,  0.44819257,\n",
       "        1.16236307,  0.95899753, -0.89230852,  1.2256583 ,  0.16600803,\n",
       "        0.97030177,  1.2362552 , -0.49800827, -1.12186293, -0.76821321,\n",
       "       -0.17069533,  1.0020256 ,  1.13017305, -1.43116231,  0.08022321,\n",
       "       -0.19978569, -0.78569527, -1.0924226 , -0.43917319,  1.37671041,\n",
       "       -0.4824099 ,  0.10435317,  0.65703818, -0.36112989,  1.46332755,\n",
       "        1.43532319, -0.69667181,  0.03972682, -0.54938377, -0.59749722,\n",
       "       -1.34135786,  0.3766743 ,  0.05601837, -1.29758245, -0.61607931,\n",
       "        1.27277896, -0.73333303, -1.01733408,  0.01633958,  1.50493266,\n",
       "       -0.72585289,  0.56438794,  0.83284015, -0.73910607,  0.73263035,\n",
       "       -0.3486693 ,  0.44489879,  0.44857043,  0.15530535, -1.18114939,\n",
       "        1.05388879, -0.4896785 , -0.89246317, -1.32969328,  0.32066013,\n",
       "        0.58067439, -1.40225521,  0.08426048, -0.77253137,  0.48349967,\n",
       "       -0.92891941,  0.62079451, -0.29181266,  1.35817127, -1.03945587,\n",
       "       -0.42881965, -1.11159814,  1.32206216,  1.17999936, -0.67819382,\n",
       "        0.52793344,  0.9996479 ,  0.21358373,  0.13693304, -0.72646183,\n",
       "       -1.1727104 ,  1.23962857,  1.24923547,  0.44728567, -0.43492933,\n",
       "       -0.40438998,  0.72584834,  1.23931208,  1.20924057,  0.88760794])"
      ]
     },
     "execution_count": 95,
     "metadata": {},
     "output_type": "execute_result"
    }
   ],
   "source": [
    "xy_centrado[:, 0]"
   ]
  },
  {
   "cell_type": "code",
   "execution_count": 89,
   "id": "62dc916d",
   "metadata": {},
   "outputs": [
    {
     "name": "stdout",
     "output_type": "stream",
     "text": [
      "[[-0.9987754  -0.04947417]\n",
      " [ 0.04947417 -0.9987754 ]]\n",
      "[[ 7.26898764e-01 -2.80011996e+00 -1.50151978e+00 -6.06520638e-01\n",
      "   1.77842794e+00  1.91630212e+00  2.66508131e+00 -2.33785250e+00\n",
      "  -5.95414029e-01 -1.40771587e+00  2.65623654e+00 -2.81043083e+00\n",
      "  -2.16699926e+00  1.58626023e+00  1.72777277e+00  1.61200812e+00\n",
      "   1.10320331e+00 -1.61814352e-01  4.05220024e-01  1.23726589e+00\n",
      "  -7.48277153e-01  2.02785343e+00  1.12370392e+00  6.26544617e-01\n",
      "   1.72017498e-01 -1.93356440e+00  1.72883743e+00 -4.42790197e-01\n",
      "  -7.01869718e-01  2.70140755e+00 -6.24246686e-01  1.82878142e+00\n",
      "   2.52775262e+00 -2.83687981e+00 -2.91294583e+00 -1.92104369e+00\n",
      "   1.16049533e+00  2.46095886e+00 -1.14345564e+00  1.83509044e-01\n",
      "   2.14454454e+00  6.33037293e-02  2.67140376e+00 -2.56835997e+00\n",
      "   1.43755103e+00 -1.07334867e+00  1.02861299e+00 -9.53349577e-02\n",
      "  -4.02747561e-01  1.73555534e+00 -2.99686222e+00 -1.83410650e+00\n",
      "  -2.57392360e+00 -2.35098940e+00 -7.23642101e-01 -2.65595253e+00\n",
      "   2.31485845e+00  1.34344418e+00  2.56740022e+00  8.40774493e-01\n",
      "   4.80889483e-01  1.21066913e+00 -2.01837913e+00  6.90606936e-01\n",
      "   1.29441776e+00 -3.19968502e-01  2.10110397e+00 -1.89936749e+00\n",
      "   2.21995000e+00 -2.80813770e+00 -1.78051224e+00  1.86794049e+00\n",
      "   2.90741825e+00 -2.07813551e+00 -1.32894695e+00 -1.34806424e+00\n",
      "  -1.63601760e+00  2.38475469e+00  8.27760160e-01  2.18110830e+00\n",
      "  -2.25906878e+00 -7.59699716e-01  7.07787064e-01  2.45182297e+00\n",
      "   1.23910401e+00  9.35564363e-01 -1.39279559e+00 -9.93575163e-01\n",
      "  -2.31994759e+00  8.83560294e-02  2.13033896e+00 -1.44635127e+00\n",
      "  -1.52548592e+00 -4.21135163e-01 -1.65799235e+00  1.29250130e-02\n",
      "  -3.99013738e-01  3.03400651e-01  2.86680253e+00  2.15929039e+00\n",
      "   2.49620765e+00 -1.00454707e+00  1.16893552e+00 -9.19368124e-02\n",
      "  -2.64513043e+00  1.47670984e+00  4.01901927e-01 -1.68968291e+00\n",
      "   1.62064787e+00  2.44038154e+00  1.48607493e+00  2.03337207e+00\n",
      "  -2.62678800e+00 -1.80313185e+00 -1.04597671e+00 -2.16289801e+00\n",
      "  -1.85652313e+00  1.76787429e+00 -2.57286703e+00 -1.81320214e-01\n",
      "  -2.03763367e+00 -2.45233736e+00  1.09395855e+00  2.19150005e+00\n",
      "   1.51438062e+00  4.05447506e-01 -1.99252254e+00 -2.20227990e+00\n",
      "   2.84095931e+00 -2.18350708e-01  2.46962459e-01  1.69131590e+00\n",
      "   1.96762931e+00  1.07301636e+00 -2.71556725e+00  9.07613278e-01\n",
      "  -2.28614255e-01 -1.23807636e+00  7.45283589e-01 -2.85402180e+00\n",
      "  -2.78880683e+00  1.30776771e+00 -1.07642759e-01  1.16754993e+00\n",
      "   1.10563574e+00  2.64323039e+00 -8.22686847e-01 -1.67009222e-01\n",
      "   2.66862800e+00  1.28702465e+00 -2.59788697e+00  1.40433129e+00\n",
      "   2.03146221e+00 -3.74261369e-02 -3.11194799e+00  1.50838897e+00\n",
      "  -1.16961317e+00 -1.62922464e+00  1.49774391e+00 -1.55871039e+00\n",
      "   6.18241774e-01 -9.58398864e-01 -1.01437857e+00 -3.04195007e-01\n",
      "   2.28762314e+00 -2.05803280e+00  9.48202429e-01  1.79399577e+00\n",
      "   2.64084737e+00 -6.89774615e-01 -1.06689888e+00  2.58767861e+00\n",
      "  -6.13173505e-02  1.66280483e+00 -1.06924513e+00  1.77526906e+00\n",
      "  -1.28938528e+00  5.24695889e-01 -2.69251372e+00  2.16215970e+00\n",
      "   8.51774254e-01  2.28381940e+00 -2.71841774e+00 -2.32492256e+00\n",
      "   1.43677697e+00 -1.01119721e+00 -2.02174714e+00 -3.62209610e-01\n",
      "  -1.84230442e-01  1.42695224e+00  2.31408332e+00 -2.40787077e+00\n",
      "  -2.43052450e+00 -9.05610125e-01  1.01470816e+00  9.49968691e-01\n",
      "  -1.36541499e+00 -2.43628244e+00 -2.42837653e+00 -1.90410787e+00]\n",
      " [ 8.03672387e+00 -2.82281978e+01 -1.52749982e+01 -5.29207724e+00\n",
      "   1.60141597e+01  1.87960756e+01  2.79751984e+01 -2.40222277e+01\n",
      "  -4.91890089e+00 -1.48318388e+01  2.55227817e+01 -2.72723779e+01\n",
      "  -2.26185963e+01  1.55498574e+01  1.65563789e+01  1.43151235e+01\n",
      "   1.13707887e+01 -7.95679794e-01  5.02363427e+00  1.32881346e+01\n",
      "  -7.35375272e+00  2.00474907e+01  1.10510808e+01  5.51488116e+00\n",
      "   1.77866742e+00 -2.07721994e+01  1.76601831e+01 -7.10599741e+00\n",
      "  -7.59558340e+00  2.80031355e+01 -5.11107851e+00  1.79102657e+01\n",
      "   2.56253548e+01 -2.90811911e+01 -2.96013288e+01 -1.91113422e+01\n",
      "   1.25499179e+01  2.62549680e+01 -1.09425779e+01  1.04545662e+00\n",
      "   2.13447601e+01  1.95532807e+00  2.66660190e+01 -2.60595012e+01\n",
      "   1.53638113e+01 -1.08437609e+01  1.03178660e+01  2.62099440e-01\n",
      "  -4.32836385e+00  1.68971932e+01 -3.10557411e+01 -1.93733546e+01\n",
      "  -2.43418615e+01 -2.25500899e+01 -7.70249759e+00 -2.70665680e+01\n",
      "   2.27488895e+01  9.65612688e+00  2.52236530e+01  7.35165760e+00\n",
      "   3.92757971e+00  1.15457201e+01 -1.98429515e+01  6.22552103e+00\n",
      "   1.38176632e+01 -2.90064719e+00  2.16129929e+01 -1.90497232e+01\n",
      "   1.99874932e+01 -2.61966333e+01 -1.84665287e+01  2.04102729e+01\n",
      "   2.96802435e+01 -2.18543331e+01 -1.33153555e+01 -1.23581774e+01\n",
      "  -1.56085845e+01  2.32838575e+01  9.09818093e+00  2.17088178e+01\n",
      "  -2.26180792e+01 -6.89033675e+00  5.00454423e+00  2.40019543e+01\n",
      "   1.45230296e+01  9.25634359e+00 -1.32248830e+01 -1.07471170e+01\n",
      "  -2.23851558e+01  1.06871731e+00  2.09097825e+01 -1.52981721e+01\n",
      "  -1.40129957e+01 -3.81626492e+00 -1.60705898e+01  8.54532217e-01\n",
      "  -5.70692352e+00  2.70107524e+00  3.00668099e+01  2.07846167e+01\n",
      "   2.29497454e+01 -1.10381708e+01  1.33110522e+01 -3.66471075e-01\n",
      "  -2.77156831e+01  1.55790267e+01  3.64917329e+00 -1.76451464e+01\n",
      "   1.72421080e+01  2.45848293e+01  1.82214416e+01  2.14764011e+01\n",
      "  -2.60034058e+01 -1.67477547e+01 -1.20568614e+01 -2.01698425e+01\n",
      "  -1.80953427e+01  1.76536724e+01 -2.71668619e+01 -3.05010529e-01\n",
      "  -2.15230811e+01 -2.45194407e+01  1.20186066e+01  2.15658669e+01\n",
      "   1.50444741e+01  4.73490814e+00 -1.99711658e+01 -2.16155196e+01\n",
      "   2.84252954e+01 -2.78650660e+00  9.47450691e-01  1.82630533e+01\n",
      "   1.76414706e+01  1.27850378e+01 -2.69945165e+01  8.57198601e+00\n",
      "  -2.50597682e+00 -1.17136276e+01  7.74628467e+00 -2.80388565e+01\n",
      "  -2.72883490e+01  1.23194462e+01 -1.37009107e+00  1.24658252e+01\n",
      "   1.02434168e+01  2.62487592e+01 -8.99469487e+00 -2.23927611e+00\n",
      "   2.76462949e+01  1.35296707e+01 -2.67195302e+01  1.35278366e+01\n",
      "   2.04478488e+01 -4.25287031e-01 -3.24048764e+01  1.57797265e+01\n",
      "  -1.22042047e+01 -1.60566475e+01  1.52969452e+01 -1.66586163e+01\n",
      "   5.43344865e+00 -1.03554318e+01 -1.14113265e+01 -3.00191253e+00\n",
      "   2.23080505e+01 -2.02453867e+01  9.24447515e+00  1.81778821e+01\n",
      "   2.64364223e+01 -7.44367759e+00 -9.80143668e+00  2.38963984e+01\n",
      "   4.65257173e-01  1.79535532e+01 -1.18129527e+01  1.70629567e+01\n",
      "  -1.34820202e+01  4.69418032e+00 -2.69038397e+01  2.26392075e+01\n",
      "   8.52791478e+00  2.36370705e+01 -2.81566431e+01 -2.30842892e+01\n",
      "   1.52973490e+01 -9.74297161e+00 -2.06092061e+01 -2.99514488e+00\n",
      "  -9.51441863e-01  1.41233888e+01  2.30127974e+01 -2.35535728e+01\n",
      "  -2.38167220e+01 -9.24149758e+00  1.16937020e+01  1.10040322e+01\n",
      "  -1.28934863e+01 -2.41335396e+01 -2.45817589e+01 -2.04989414e+01]]\n"
     ]
    }
   ],
   "source": [
    "print(autovectores)\n",
    "print(xy_nuevo)"
   ]
  },
  {
   "cell_type": "code",
   "execution_count": null,
   "id": "a154605d",
   "metadata": {},
   "outputs": [],
   "source": []
  },
  {
   "cell_type": "code",
   "execution_count": 100,
   "id": "79e5bf44",
   "metadata": {},
   "outputs": [
    {
     "data": {
      "image/png": "[encoded data removed]",
      "text/plain": [
       "<Figure size 432x288 with 1 Axes>"
      ]
     },
     "metadata": {
      "needs_background": "light"
     },
     "output_type": "display_data"
    }
   ],
   "source": [
    "graficarVectores(autovectores.T, ['blue', 'red'])\n",
    "plt.plot(xy_nuevo[0, :], xy_nuevo[1,:]/10, '.')\n",
    "plt.show()"
   ]
  },
  {
   "cell_type": "code",
   "execution_count": 91,
   "id": "c8eb5f3a",
   "metadata": {},
   "outputs": [
    {
     "name": "stdout",
     "output_type": "stream",
     "text": [
      "[ 0.72689876 -2.80011996 -1.50151978 -0.60652064  1.77842794  1.91630212\n",
      "  2.66508131 -2.3378525  -0.59541403 -1.40771587  2.65623654 -2.81043083\n",
      " -2.16699926  1.58626023  1.72777277  1.61200812  1.10320331 -0.16181435\n",
      "  0.40522002  1.23726589 -0.74827715  2.02785343  1.12370392  0.62654462\n",
      "  0.1720175  -1.9335644   1.72883743 -0.4427902  -0.70186972  2.70140755\n",
      " -0.62424669  1.82878142  2.52775262 -2.83687981 -2.91294583 -1.92104369\n",
      "  1.16049533  2.46095886 -1.14345564  0.18350904  2.14454454  0.06330373\n",
      "  2.67140376 -2.56835997  1.43755103 -1.07334867  1.02861299 -0.09533496\n",
      " -0.40274756  1.73555534 -2.99686222 -1.8341065  -2.5739236  -2.3509894\n",
      " -0.7236421  -2.65595253  2.31485845  1.34344418  2.56740022  0.84077449\n",
      "  0.48088948  1.21066913 -2.01837913  0.69060694  1.29441776 -0.3199685\n",
      "  2.10110397 -1.89936749  2.21995    -2.8081377  -1.78051224  1.86794049\n",
      "  2.90741825 -2.07813551 -1.32894695 -1.34806424 -1.6360176   2.38475469\n",
      "  0.82776016  2.1811083  -2.25906878 -0.75969972  0.70778706  2.45182297\n",
      "  1.23910401  0.93556436 -1.39279559 -0.99357516 -2.31994759  0.08835603\n",
      "  2.13033896 -1.44635127 -1.52548592 -0.42113516 -1.65799235  0.01292501\n",
      " -0.39901374  0.30340065  2.86680253  2.15929039  2.49620765 -1.00454707\n",
      "  1.16893552 -0.09193681 -2.64513043  1.47670984  0.40190193 -1.68968291\n",
      "  1.62064787  2.44038154  1.48607493  2.03337207 -2.626788   -1.80313185\n",
      " -1.04597671 -2.16289801 -1.85652313  1.76787429 -2.57286703 -0.18132021\n",
      " -2.03763367 -2.45233736  1.09395855  2.19150005  1.51438062  0.40544751\n",
      " -1.99252254 -2.2022799   2.84095931 -0.21835071  0.24696246  1.6913159\n",
      "  1.96762931  1.07301636 -2.71556725  0.90761328 -0.22861426 -1.23807636\n",
      "  0.74528359 -2.8540218  -2.78880683  1.30776771 -0.10764276  1.16754993\n",
      "  1.10563574  2.64323039 -0.82268685 -0.16700922  2.668628    1.28702465\n",
      " -2.59788697  1.40433129  2.03146221 -0.03742614 -3.11194799  1.50838897\n",
      " -1.16961317 -1.62922464  1.49774391 -1.55871039  0.61824177 -0.95839886\n",
      " -1.01437857 -0.30419501  2.28762314 -2.0580328   0.94820243  1.79399577\n",
      "  2.64084737 -0.68977461 -1.06689888  2.58767861 -0.06131735  1.66280483\n",
      " -1.06924513  1.77526906 -1.28938528  0.52469589 -2.69251372  2.1621597\n",
      "  0.85177425  2.2838194  -2.71841774 -2.32492256  1.43677697 -1.01119721\n",
      " -2.02174714 -0.36220961 -0.18423044  1.42695224  2.31408332 -2.40787077\n",
      " -2.4305245  -0.90561012  1.01470816  0.94996869 -1.36541499 -2.43628244\n",
      " -2.42837653 -1.90410787]\n"
     ]
    }
   ],
   "source": [
    "print(xy_nuevo[0,:])"
   ]
  },
  {
   "cell_type": "code",
   "execution_count": 94,
   "id": "6de92542",
   "metadata": {},
   "outputs": [
    {
     "name": "stdout",
     "output_type": "stream",
     "text": [
      "[0.0029430246755784376, 99.99705697532441]\n"
     ]
    }
   ],
   "source": [
    "variance_explained = []\n",
    "for i in autovalores:\n",
    "    variance_explained.append((i/sum(autovalores))*100)\n",
    "print(variance_explained)"
   ]
  },
  {
   "cell_type": "code",
   "execution_count": null,
   "id": "74337b24",
   "metadata": {},
   "outputs": [],
   "source": []
  },
  {
   "cell_type": "code",
   "execution_count": null,
   "id": "b54c0171",
   "metadata": {},
   "outputs": [],
   "source": []
  }
 ],
 "metadata": {
  "kernelspec": {
   "display_name": "Python 3 (ipykernel)",
   "language": "python",
   "name": "python3"
  },
  "language_info": {
   "codemirror_mode": {
    "name": "ipython",
    "version": 3
   },
   "file_extension": ".py",
   "mimetype": "text/x-python",
   "name": "python",
   "nbconvert_exporter": "python",
   "pygments_lexer": "ipython3",
   "version": "3.9.7"
  }
 },
 "nbformat": 4,
 "nbformat_minor": 5
}
